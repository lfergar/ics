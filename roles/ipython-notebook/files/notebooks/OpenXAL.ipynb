{
 "cells": [
  {
   "cell_type": "code",
   "execution_count": 1,
   "metadata": {
    "collapsed": false
   },
   "outputs": [
    {
     "name": "stdout",
     "output_type": "stream",
     "text": [
      "Populating the interactive namespace from numpy and matplotlib\n"
     ]
    }
   ],
   "source": [
    "%pylab inline\n",
    "from jpype import *"
   ]
  },
  {
   "cell_type": "code",
   "execution_count": 2,
   "metadata": {
    "collapsed": true
   },
   "outputs": [],
   "source": [
    "JAVA_JVM= getDefaultJVMPath()\n",
    "JAVA_OpenXAL='/opt/openxal/openxal-installation/lib/openxal/openxal.library-1.0.4.jar'\n",
    "JAVA_ClassPath='-Djava.class.path='+JAVA_OpenXAL\n",
    "JAVA_Flags='-ea'"
   ]
  },
  {
   "cell_type": "code",
   "execution_count": 3,
   "metadata": {
    "collapsed": true
   },
   "outputs": [],
   "source": [
    "startJVM(getDefaultJVMPath(), JAVA_Flags, JAVA_ClassPath)"
   ]
  },
  {
   "cell_type": "code",
   "execution_count": 4,
   "metadata": {
    "collapsed": false
   },
   "outputs": [],
   "source": [
    "_XMLDataManager = JClass(\"xal.smf.data.XMLDataManager\")"
   ]
  },
  {
   "cell_type": "code",
   "execution_count": 5,
   "metadata": {
    "collapsed": false
   },
   "outputs": [],
   "source": [
    "Accelerator = _XMLDataManager.acceleratorWithPath('/opt/openxal/openxal-installation/etc/main.xal')"
   ]
  },
  {
   "cell_type": "markdown",
   "metadata": {},
   "source": [
    "#Accelerator Methods:\n",
    "http://xaldev.sourceforge.net/javadoc/xal/smf/Accelerator.html"
   ]
  },
  {
   "cell_type": "code",
   "execution_count": 6,
   "metadata": {
    "collapsed": false
   },
   "outputs": [
    {
     "name": "stdout",
     "output_type": "stream",
     "text": [
      "[MEBT, GAP1, GAP2, GAP3, DTL, DTL1, DTL2, DTL3, DTL4, DTL5, DTL6, DTL7, DTL8, DTL9, DTL10, DTL11, DTL12, DTL13, DTL14, DTL15, DTL16, DTL17, DTL18, DTL19, DTL20, DTL21, DTL22, DTL23, DTL24, DTL25, DTL26, DTL27, DTL28, DTL29, DTL30, DTL31, DTL32, DTL33, DTL34, DTL35, DTL36, DTL37, DTL38, DTL39, DTL40, DTL41, DTL42, DTL43, DTL44, DTL45, DTL46, DTL47, DTL48, DTL49, DTL50, DTL51, DTL52, DTL53, DTL54, DTL55, DTL56, DTL57, DTL58, DTL59, DTL60, DTL61, DTL62, DTL63, DTL64, DTL65, DTL66, DTL67, DTL68, DTL69, DTL70, DTL71, DTL72, DTL73, DTL74, DTL75, DTL76, DTL77, DTL78, DTL79, DTL80, DTL81, DTL82, DTL83, DTL84, DTL85, DTL86, DTL87, DTL88, DTL89, DTL90, DTL91, DTL92, DTL93, DTL94, DTL95, DTL96, DTL97, DTL98, DTL99, DTL100, DTL101, DTL102, DTL103, DTL104, DTL105, DTL106, DTL107, DTL108, DTL109, DTL110, DTL111, DTL112, DTL113, DTL114, DTL115, DTL116, DTL117, DTL118, DTL119, DTL120, DTL121, DTL122, DTL123, DTL124, DTL125, DTL126, DTL127, DTL128, DTL129, DTL130, DTL131, DTL132, DTL133, DTL134, DTL135, DTL136, DTL137, DTL138, DTL139, DTL140, DTL141, DTL142, DTL143, DTL144, DTL145, DTL146, DTL147, DTL148, DTL149, DTL150, DTL151, DTL152, DTL153, DTL154, DTL155, DTL156, DTL157, DTL158, DTL159, DTL160, DTL161, DTL162, DTL163, DTL164, DTL165, DTL166, DTL167, DTL168, DTL169, DTL170, DTL171, DTL172, DTL173, DTL174, DTL175, DTL176, DTL177, SPOKE, MB, HB, HEBT]\n"
     ]
    }
   ],
   "source": [
    "print Accelerator.getAllSeqs()"
   ]
  },
  {
   "cell_type": "code",
   "execution_count": 7,
   "metadata": {
    "collapsed": false
   },
   "outputs": [
    {
     "name": "stdout",
     "output_type": "stream",
     "text": [
      "[from-mebt]\n"
     ]
    }
   ],
   "source": [
    "print Accelerator.getComboSequences()"
   ]
  },
  {
   "cell_type": "markdown",
   "metadata": {},
   "source": [
    "#Sequence Methods:\n",
    "http://xaldev.sourceforge.net/javadoc/xal/smf/AcceleratorSeq.html"
   ]
  },
  {
   "cell_type": "code",
   "execution_count": 8,
   "metadata": {
    "collapsed": true
   },
   "outputs": [],
   "source": [
    "Sequence = Accelerator.getSequence('MEBT')\n",
    "#Sequence = Accelerator.getComboSequence('from-mebt')"
   ]
  },
  {
   "cell_type": "code",
   "execution_count": 9,
   "metadata": {
    "collapsed": false
   },
   "outputs": [
    {
     "data": {
      "text/plain": [
       "44"
      ]
     },
     "execution_count": 9,
     "metadata": {},
     "output_type": "execute_result"
    }
   ],
   "source": [
    "Sequence.getNodeCount()"
   ]
  },
  {
   "cell_type": "code",
   "execution_count": 10,
   "metadata": {
    "collapsed": false
   },
   "outputs": [
    {
     "name": "stdout",
     "output_type": "stream",
     "text": [
      "[BPM1, QP1, ST1-VC, ST1-HC, BPM2, QP2, ST2-VC, ST2-HC, GAP1, BPM3, QP3, ST3-VC, ST3-HC, QP4, GAP2, BPM4, QP5, ST4-VC, ST4-HC, BPM5, QP6, ST5-VC, ST5-HC, BPM6, QP7, ST6-VC, ST6-HC, BPM7, QP8, ST7-VC, ST7-HC, GAP3, BPM8, QP9, ST8-VC, ST8-HC, BPM9, QP10, ST9-VC, ST9-HC, BPM10, QP11, ST10-VC, ST10-HC]\n"
     ]
    }
   ],
   "source": [
    "print Sequence.nodes"
   ]
  },
  {
   "cell_type": "code",
   "execution_count": 11,
   "metadata": {
    "collapsed": false
   },
   "outputs": [
    {
     "name": "stdout",
     "output_type": "stream",
     "text": [
      "[GAP1, GAP2, GAP3]\n"
     ]
    }
   ],
   "source": [
    "print Sequence.getAllNodesOfType('RF')\n",
    "#print Sequence.getAllNodesOfType('Quad')"
   ]
  },
  {
   "cell_type": "code",
   "execution_count": 12,
   "metadata": {
    "collapsed": false
   },
   "outputs": [
    {
     "data": {
      "text/plain": [
       "3.840000000069995"
      ]
     },
     "execution_count": 12,
     "metadata": {},
     "output_type": "execute_result"
    }
   ],
   "source": [
    "Sequence.getLength()"
   ]
  },
  {
   "cell_type": "markdown",
   "metadata": {},
   "source": [
    "#Node Methods:\n",
    "http://xaldev.sourceforge.net/javadoc/xal/smf/AcceleratorNode.html"
   ]
  },
  {
   "cell_type": "code",
   "execution_count": 13,
   "metadata": {
    "collapsed": false
   },
   "outputs": [],
   "source": [
    "MyQuad = Sequence.getNodeWithId('QP1')"
   ]
  },
  {
   "cell_type": "code",
   "execution_count": 14,
   "metadata": {
    "collapsed": true
   },
   "outputs": [],
   "source": [
    "#MyQuad.getField()"
   ]
  },
  {
   "cell_type": "code",
   "execution_count": 15,
   "metadata": {
    "collapsed": true
   },
   "outputs": [],
   "source": [
    "#MyQuad.field"
   ]
  },
  {
   "cell_type": "code",
   "execution_count": 16,
   "metadata": {
    "collapsed": false
   },
   "outputs": [
    {
     "data": {
      "text/plain": [
       "1"
      ]
     },
     "execution_count": 16,
     "metadata": {},
     "output_type": "execute_result"
    }
   ],
   "source": [
    "MyQuad.isMagnet()"
   ]
  },
  {
   "cell_type": "code",
   "execution_count": 17,
   "metadata": {
    "collapsed": false
   },
   "outputs": [
    {
     "data": {
      "text/plain": [
       "0"
      ]
     },
     "execution_count": 17,
     "metadata": {},
     "output_type": "execute_result"
    }
   ],
   "source": [
    "Sequence.getNodeWithId('BPM1').isMagnet()"
   ]
  },
  {
   "cell_type": "code",
   "execution_count": 18,
   "metadata": {
    "collapsed": false
   },
   "outputs": [
    {
     "name": "stdout",
     "output_type": "stream",
     "text": [
      "[fieldSet, cycleEnable, I_Set, fieldRB, I, psFieldRB, cycleState]\n"
     ]
    }
   ],
   "source": [
    "print MyQuad.handles"
   ]
  },
  {
   "cell_type": "code",
   "execution_count": 19,
   "metadata": {
    "collapsed": false
   },
   "outputs": [
    {
     "data": {
      "text/plain": [
       "u'[fieldSet, cycleEnable, I_Set, fieldRB, I, psFieldRB, cycleState]'"
      ]
     },
     "execution_count": 19,
     "metadata": {},
     "output_type": "execute_result"
    }
   ],
   "source": [
    "MyQuad.handles.toString()"
   ]
  },
  {
   "cell_type": "code",
   "execution_count": 20,
   "metadata": {
    "collapsed": false
   },
   "outputs": [
    {
     "data": {
      "text/plain": [
       "u'QP1:FldSet'"
      ]
     },
     "execution_count": 20,
     "metadata": {},
     "output_type": "execute_result"
    }
   ],
   "source": [
    "MyQuad.getChannel('fieldSet').getId()"
   ]
  },
  {
   "cell_type": "code",
   "execution_count": 21,
   "metadata": {
    "collapsed": false
   },
   "outputs": [
    {
     "data": {
      "text/plain": [
       "u'QP1:B'"
      ]
     },
     "execution_count": 21,
     "metadata": {},
     "output_type": "execute_result"
    }
   ],
   "source": [
    "MyQuad.getChannel('fieldRB').getId()"
   ]
  },
  {
   "cell_type": "markdown",
   "metadata": {},
   "source": [
    "#It is time to run a simulation"
   ]
  },
  {
   "cell_type": "markdown",
   "metadata": {},
   "source": [
    "<H3>Setup generic parameters for an algorithm of simulation</H3>\n",
    "http://xaldev.sourceforge.net/javadoc/xal/model/alg/EnvTrackerAdapt.html"
   ]
  },
  {
   "cell_type": "code",
   "execution_count": 22,
   "metadata": {
    "collapsed": true
   },
   "outputs": [],
   "source": [
    "_AlgorithFactory = JClass(\"xal.sim.scenario.AlgorithmFactory\")"
   ]
  },
  {
   "cell_type": "code",
   "execution_count": 23,
   "metadata": {
    "collapsed": true
   },
   "outputs": [],
   "source": [
    "EnvelopeTracker = _AlgorithFactory.createEnvTrackerAdapt(Sequence)\n",
    "#EnvelopeTracker = _AlgorithFactory.createEnvelopeTracker(Sequence)"
   ]
  },
  {
   "cell_type": "code",
   "execution_count": 24,
   "metadata": {
    "collapsed": true
   },
   "outputs": [],
   "source": [
    "EnvelopeTracker.setMaxIterations(1000)\n",
    "EnvelopeTracker.setAccuracyOrder(1)\n",
    "EnvelopeTracker.setErrorTolerance(0.001)"
   ]
  },
  {
   "cell_type": "markdown",
   "metadata": {},
   "source": [
    "<H3>Setup a probe for the simulation (Beam)</H3>\n",
    "http://xaldev.sourceforge.net/javadoc/xal/model/alg/EnvTrackerAdapt.html"
   ]
  },
  {
   "cell_type": "code",
   "execution_count": 25,
   "metadata": {
    "collapsed": true
   },
   "outputs": [],
   "source": [
    "_ProbeFactory = JClass(\"xal.sim.scenario.ProbeFactory\")"
   ]
  },
  {
   "cell_type": "code",
   "execution_count": 26,
   "metadata": {
    "collapsed": true
   },
   "outputs": [],
   "source": [
    "Probe = _ProbeFactory.getEnvelopeProbe(Sequence, EnvelopeTracker)"
   ]
  },
  {
   "cell_type": "markdown",
   "metadata": {},
   "source": [
    "<h3>Setup a model (Scenario) for the simulation</h3>\n",
    "http://xaldev.sourceforge.net/javadoc/xal/sim/scenario/Scenario.html"
   ]
  },
  {
   "cell_type": "code",
   "execution_count": 27,
   "metadata": {
    "collapsed": true
   },
   "outputs": [],
   "source": [
    "_Scenario = JClass(\"xal.sim.scenario.Scenario\")"
   ]
  },
  {
   "cell_type": "code",
   "execution_count": 28,
   "metadata": {
    "collapsed": true
   },
   "outputs": [],
   "source": [
    "Model = _Scenario.newScenarioFor(Sequence)"
   ]
  },
  {
   "cell_type": "code",
   "execution_count": 29,
   "metadata": {
    "collapsed": true
   },
   "outputs": [],
   "source": [
    "Model.setProbe(Probe)"
   ]
  },
  {
   "cell_type": "code",
   "execution_count": 30,
   "metadata": {
    "collapsed": true
   },
   "outputs": [],
   "source": [
    "Model.setSynchronizationMode('LIVE')\n",
    "#Model.setSynchronizationMode('DESIGN')"
   ]
  },
  {
   "cell_type": "code",
   "execution_count": 31,
   "metadata": {
    "collapsed": true
   },
   "outputs": [],
   "source": [
    "Model.resync()"
   ]
  },
  {
   "cell_type": "markdown",
   "metadata": {},
   "source": [
    "<h3>Run the simulation</h3>"
   ]
  },
  {
   "cell_type": "code",
   "execution_count": 32,
   "metadata": {
    "collapsed": true
   },
   "outputs": [],
   "source": [
    "Model.run()"
   ]
  },
  {
   "cell_type": "markdown",
   "metadata": {},
   "source": [
    "<h3>Get back the probe (Beam)</h3>"
   ]
  },
  {
   "cell_type": "code",
   "execution_count": 33,
   "metadata": {
    "collapsed": true
   },
   "outputs": [],
   "source": [
    "Probe = Model.getProbe()"
   ]
  },
  {
   "cell_type": "markdown",
   "metadata": {},
   "source": [
    "<h3>Get the trajectory</h3>\n",
    "http://xaldev.sourceforge.net/javadoc/xal/model/probe/traj/Trajectory.html"
   ]
  },
  {
   "cell_type": "code",
   "execution_count": 34,
   "metadata": {
    "collapsed": false
   },
   "outputs": [],
   "source": [
    "Trajectory = Probe.getTrajectory()"
   ]
  },
  {
   "cell_type": "code",
   "execution_count": 35,
   "metadata": {
    "collapsed": false
   },
   "outputs": [],
   "source": [
    "StateElement = Trajectory.getStatesViaIndexer()"
   ]
  },
  {
   "cell_type": "code",
   "execution_count": 36,
   "metadata": {
    "collapsed": false
   },
   "outputs": [],
   "source": [
    "SigmaX=[]\n",
    "SigmaY=[]\n",
    "SigmaZ=[]\n",
    "Positions=[]\n",
    "for i in range(0,Trajectory.numStates()):\n",
    "    Positions.append(StateElement[i].getPosition())\n",
    "    SigmaX.append(StateElement[i].getCovarianceMatrix().getSigmaX())\n",
    "    SigmaY.append(StateElement[i].getCovarianceMatrix().getSigmaY())\n",
    "    SigmaZ.append(StateElement[i].getCovarianceMatrix().getSigmaZ())"
   ]
  },
  {
   "cell_type": "code",
   "execution_count": 37,
   "metadata": {
    "collapsed": false
   },
   "outputs": [
    {
     "data": {
      "image/png": "[encoded data removed]",
      "text/plain": [
       "<matplotlib.figure.Figure at 0x1127cc610>"
      ]
     },
     "metadata": {},
     "output_type": "display_data"
    }
   ],
   "source": [
    "fig, (ax1, ax2, ax3) = subplots(ncols=3, figsize=(18,8))\n",
    "ax1.set_xlabel('Position [m]')\n",
    "ax1.set_ylabel('$\\sigma_x$ [m]')\n",
    "ax1.ticklabel_format(style='sci', axis='y', scilimits=(0,0))\n",
    "ax1.plot(Positions, SigmaX, color='r')\n",
    "\n",
    "ax2.plot(Positions, SigmaY, color='g')\n",
    "ax2.set_xlabel('Position [m]')\n",
    "ax2.set_ylabel('$\\sigma_y$ [m]')\n",
    "ax2.ticklabel_format(style='sci', axis='y', scilimits=(0,0))\n",
    "\n",
    "ax3.plot(Positions, SigmaZ, color='b')\n",
    "ax3.set_xlabel('Position [m]')\n",
    "ax3.set_ylabel('$\\sigma_z$ [m]')\n",
    "ax3.ticklabel_format(style='sci', axis='y', scilimits=(0,0))\n",
    "\n",
    "show()"
   ]
  },
  {
   "cell_type": "markdown",
   "metadata": {},
   "source": [
    "#A little break"
   ]
  },
  {
   "cell_type": "markdown",
   "metadata": {},
   "source": [
    "<h3>What if we want to modify one variable?<BR>\n",
    "We can use EPICS</h3>"
   ]
  },
  {
   "cell_type": "code",
   "execution_count": 38,
   "metadata": {
    "collapsed": true
   },
   "outputs": [],
   "source": [
    "from epics import caget, caput"
   ]
  },
  {
   "cell_type": "code",
   "execution_count": 39,
   "metadata": {
    "collapsed": false
   },
   "outputs": [
    {
     "data": {
      "text/plain": [
       "20.0"
      ]
     },
     "execution_count": 39,
     "metadata": {},
     "output_type": "execute_result"
    }
   ],
   "source": [
    "caget('QP1:B')"
   ]
  },
  {
   "cell_type": "code",
   "execution_count": 40,
   "metadata": {
    "collapsed": false
   },
   "outputs": [
    {
     "data": {
      "text/plain": [
       "1"
      ]
     },
     "execution_count": 40,
     "metadata": {},
     "output_type": "execute_result"
    }
   ],
   "source": [
    "caput('QP1:FldSet', 20)"
   ]
  },
  {
   "cell_type": "code",
   "execution_count": 41,
   "metadata": {
    "collapsed": false
   },
   "outputs": [
    {
     "data": {
      "text/plain": [
       "20.0"
      ]
     },
     "execution_count": 41,
     "metadata": {},
     "output_type": "execute_result"
    }
   ],
   "source": [
    "caget('QP1:B')"
   ]
  },
  {
   "cell_type": "markdown",
   "metadata": {},
   "source": [
    "#So why not to do it interactively?"
   ]
  },
  {
   "cell_type": "code",
   "execution_count": 42,
   "metadata": {
    "collapsed": false
   },
   "outputs": [
    {
     "name": "stderr",
     "output_type": "stream",
     "text": [
      ":0: FutureWarning: IPython widgets are experimental and may change in the future.\n"
     ]
    }
   ],
   "source": [
    "from IPython.html.widgets import interact, interactive"
   ]
  },
  {
   "cell_type": "code",
   "execution_count": 43,
   "metadata": {
    "collapsed": true
   },
   "outputs": [],
   "source": [
    "def PlayWithQuad(QP1Field=-16.1578):\n",
    "    caput('QP1:FldSet', QP1Field) # This is not part of OpenXAL, with this command we are changing the \"Hardware\".\n",
    "#    MyQuad.setDfltField(QP1Field) # This modifies a variable in OpenXAL.\n",
    "    Probe = _ProbeFactory.getEnvelopeProbe(Sequence, EnvelopeTracker)\n",
    "    Model.setProbe(Probe)\n",
    "    Model.resync()\n",
    "    Model.run()\n",
    "    Probe = Model.getProbe()\n",
    "    \n",
    "    Trajectory = Probe.getTrajectory()\n",
    "    StateElement = Trajectory.getStatesViaIndexer()\n",
    "    \n",
    "    SigmaX=[]\n",
    "    SigmaY=[]\n",
    "    SigmaZ=[]\n",
    "    Positions=[]\n",
    "    for i in range(0,Trajectory.numStates()):\n",
    "        Positions.append(StateElement[i].getPosition())\n",
    "        SigmaX.append(StateElement[i].getCovarianceMatrix().getSigmaX())\n",
    "        SigmaY.append(StateElement[i].getCovarianceMatrix().getSigmaY())\n",
    "        SigmaZ.append(StateElement[i].getCovarianceMatrix().getSigmaZ())\n",
    "\n",
    "    fig, (ax1, ax2, ax3) = subplots(ncols=3, figsize=(18,8))\n",
    "    ax1.set_xlabel('Position [m]')\n",
    "    ax1.set_ylabel('$\\sigma_x$ [m]')\n",
    "    ax1.ticklabel_format(style='sci', axis='y', scilimits=(0,0))\n",
    "    ax1.plot(Positions, SigmaX, color='r')\n",
    "\n",
    "    ax2.plot(Positions, SigmaY, color='g')\n",
    "    ax2.set_xlabel('Position [m]')\n",
    "    ax2.set_ylabel('$\\sigma_y$ [m]')\n",
    "    ax2.ticklabel_format(style='sci', axis='y', scilimits=(0,0))\n",
    "\n",
    "    ax3.plot(Positions, SigmaZ, color='b')\n",
    "    ax3.set_xlabel('Position [m]')\n",
    "    ax3.set_ylabel('$\\sigma_z$ [m]')\n",
    "    ax3.ticklabel_format(style='sci', axis='y', scilimits=(0,0))\n",
    "    \n",
    "    show()"
   ]
  },
  {
   "cell_type": "code",
   "execution_count": 44,
   "metadata": {
    "collapsed": false
   },
   "outputs": [
    {
     "data": {
      "image/png": "[encoded data removed]",
      "text/plain": [
       "<matplotlib.figure.Figure at 0x11737abd0>"
      ]
     },
     "metadata": {},
     "output_type": "display_data"
    }
   ],
   "source": [
    "interactive(PlayWithQuad, QP1Field=(-20.0, 20.0))"
   ]
  },
  {
   "cell_type": "code",
   "execution_count": null,
   "metadata": {
    "collapsed": true
   },
   "outputs": [],
   "source": []
  }
 ],
 "metadata": {
  "kernelspec": {
   "display_name": "Python 2",
   "language": "python",
   "name": "python2"
  },
  "language_info": {
   "codemirror_mode": {
    "name": "ipython",
    "version": 2
   },
   "file_extension": ".py",
   "mimetype": "text/x-python",
   "name": "python",
   "nbconvert_exporter": "python",
   "pygments_lexer": "ipython2",
   "version": "2.7.9"
  }
 },
 "nbformat": 4,
 "nbformat_minor": 0
}
